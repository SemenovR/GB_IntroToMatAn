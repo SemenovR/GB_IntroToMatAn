{
 "cells": [
  {
   "cell_type": "markdown",
   "metadata": {},
   "source": [
    "## 2.\n",
    "Даны три множества a,b и с. Необходимо выполнить все изученные виды бинарных операций\n",
    "над всеми комбинациями множеств."
   ]
  },
  {
   "cell_type": "code",
   "execution_count": 1,
   "metadata": {},
   "outputs": [
    {
     "name": "stdout",
     "output_type": "stream",
     "text": [
      "a.union(b) = {'3', '2', '4', '1'}\n",
      "a.union(c) = {'2', '4', '1'}\n",
      "b.union(c) = {'3', '4'}\n",
      "a.intersection(b) = set()\n",
      "a.intersection(c) = set()\n",
      "b.intersection(c) = {'4'}\n",
      "a.difference(b) = {'2', '1'}\n",
      "b.difference(a) = {'3', '4'}\n",
      "a.difference(c) = {'2', '1'}\n",
      "c.difference(a) = {'4'}\n",
      "b.difference(c) = {'3'}\n",
      "c.difference(b) = set()\n",
      "a.symmetric_difference(b) = {'3', '2', '4', '1'}\n",
      "a.symmetric_difference(c) = {'2', '4', '1'}\n",
      "b.symmetric_difference(c) = {'3'}\n"
     ]
    }
   ],
   "source": [
    "a = set('12')\n",
    "b = set('34')\n",
    "c = set('4')\n",
    "\n",
    "print(f'a.union(b) = {a.union(b)}')\n",
    "print(f'a.union(c) = {a.union(c)}')\n",
    "print(f'b.union(c) = {b.union(c)}')\n",
    "print(f'a.intersection(b) = {a.intersection(b)}')\n",
    "print(f'a.intersection(c) = {a.intersection(c)}')\n",
    "print(f'b.intersection(c) = {b.intersection(c)}')\n",
    "print(f'a.difference(b) = {a.difference(b)}')\n",
    "print(f'b.difference(a) = {b.difference(a)}')\n",
    "print(f'a.difference(c) = {a.difference(c)}')\n",
    "print(f'c.difference(a) = {c.difference(a)}')\n",
    "print(f'b.difference(c) = {b.difference(c)}')\n",
    "print(f'c.difference(b) = {c.difference(b)}')\n",
    "print(f'a.symmetric_difference(b) = {a.symmetric_difference(b)}')\n",
    "print(f'a.symmetric_difference(c) = {a.symmetric_difference(c)}')\n",
    "print(f'b.symmetric_difference(c) = {b.symmetric_difference(c)}')"
   ]
  },
  {
   "cell_type": "markdown",
   "metadata": {},
   "source": [
    "## 3. \n",
    "На языке Python предложить алгоритм вычисляющий численно предел с точностью $\\epsilon - 10^7$\n",
    "$$\n",
    "\\lim\\limits_{n \\to +\\infty} \\frac{n}{\\sqrt[n]{n!}}\n",
    "$$"
   ]
  },
  {
   "cell_type": "code",
   "execution_count": 2,
   "metadata": {},
   "outputs": [],
   "source": [
    "from matplotlib import pyplot as plt\n",
    "import numpy as np\n",
    "import sympy as sym\n",
    "import time\n",
    "%matplotlib inline"
   ]
  },
  {
   "cell_type": "code",
   "execution_count": 3,
   "metadata": {},
   "outputs": [],
   "source": [
    "def f(n):\n",
    "    return n / (sym.factorial(n)**(1. / n))"
   ]
  },
  {
   "cell_type": "code",
   "execution_count": 4,
   "metadata": {},
   "outputs": [
    {
     "data": {
      "image/png": "[encoded data removed]",
      "text/plain": [
       "<Figure size 432x288 with 1 Axes>"
      ]
     },
     "metadata": {
      "needs_background": "light"
     },
     "output_type": "display_data"
    }
   ],
   "source": [
    "n = np.arange(1, 100)\n",
    "y = list(map(lambda n: f(n), n))\n",
    "plt.plot(n, y)\n",
    "plt.show()"
   ]
  },
  {
   "cell_type": "code",
   "execution_count": 5,
   "metadata": {},
   "outputs": [
    {
     "name": "stdout",
     "output_type": "stream",
     "text": [
      "2.71698842372422\n",
      "Время выполнения 5.523493051528931 секунд\n"
     ]
    }
   ],
   "source": [
    "start_time = time.time()\n",
    "\n",
    "e = 10**(-7)\n",
    "n_i = 1\n",
    "f_n0 = f(n_i)\n",
    "while True:\n",
    "    n_i = n_i + 1\n",
    "    f_n1 = f_n0\n",
    "    f_n0 = f(n_i)\n",
    "    if f_n0 - f_n1 <= e:\n",
    "        break\n",
    "        \n",
    "print(f_n0)\n",
    "print(f\"Время выполнения {time.time() - start_time} секунд\")"
   ]
  },
  {
   "cell_type": "markdown",
   "metadata": {},
   "source": [
    "## 4.\n",
    "Предложить оптимизацию алгоритма, полученного в задании 3, ускоряющую его сходимость."
   ]
  },
  {
   "cell_type": "markdown",
   "metadata": {},
   "source": [
    "#### Вариант 1.\n",
    "Сдвинуть начальное значение правее"
   ]
  },
  {
   "cell_type": "code",
   "execution_count": 6,
   "metadata": {},
   "outputs": [
    {
     "name": "stdout",
     "output_type": "stream",
     "text": [
      "2.71810037995166\n",
      "Время выполнения 0.014510393142700195 секунд\n"
     ]
    }
   ],
   "source": [
    "start_time = time.time()\n",
    "\n",
    "e = 10**(-7)\n",
    "n_i = 100000\n",
    "f_n0 = f(n_i)\n",
    "while True:\n",
    "    n_i = n_i + 1\n",
    "    f_n1 = f_n0\n",
    "    f_n0 = f(n_i)\n",
    "    if f_n0 - f_n1 <= e:\n",
    "        break\n",
    "        \n",
    "print(f_n0)\n",
    "print(f\"Время выполнения {time.time() - start_time} секунд\")"
   ]
  },
  {
   "cell_type": "markdown",
   "metadata": {},
   "source": [
    "#### Вариант 2.\n",
    "Использовать встроенную функцию sympy"
   ]
  },
  {
   "cell_type": "code",
   "execution_count": 7,
   "metadata": {},
   "outputs": [
    {
     "name": "stdout",
     "output_type": "stream",
     "text": [
      "2.71828182845905\n",
      "Время выполнения 0.5503895282745361 секунд\n"
     ]
    }
   ],
   "source": [
    "start_time = time.time()\n",
    "n = sym.Symbol('n')\n",
    "print(sym.limit(f(n), n, sym.oo))\n",
    "print(f\"Время выполнения {time.time() - start_time} секунд\")"
   ]
  },
  {
   "cell_type": "code",
   "execution_count": null,
   "metadata": {},
   "outputs": [],
   "source": []
  }
 ],
 "metadata": {
  "kernelspec": {
   "display_name": "Python 3",
   "language": "python",
   "name": "python3"
  },
  "language_info": {
   "codemirror_mode": {
    "name": "ipython",
    "version": 3
   },
   "file_extension": ".py",
   "mimetype": "text/x-python",
   "name": "python",
   "nbconvert_exporter": "python",
   "pygments_lexer": "ipython3",
   "version": "3.7.3"
  }
 },
 "nbformat": 4,
 "nbformat_minor": 2
}
